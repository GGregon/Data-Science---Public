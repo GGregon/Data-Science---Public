{
 "cells": [
  {
   "cell_type": "markdown",
   "id": "3a466026",
   "metadata": {},
   "source": [
    "[LinkedIn](https://www.linkedin.com/in/gabriel-gregon/)"
   ]
  },
  {
   "cell_type": "markdown",
   "id": "3cbceef6",
   "metadata": {},
   "source": [
    "# <font color = '#2C2C54'> Classificador para Predição de Churn </font>"
   ]
  },
  {
   "attachments": {},
   "cell_type": "markdown",
   "id": "dabecfa6",
   "metadata": {},
   "source": [
    "<div style = \"height: 3px; width:100%; background-color:#2C2C54;\"></div>"
   ]
  },
  {
   "cell_type": "markdown",
   "id": "af571d06",
   "metadata": {},
   "source": [
    "## <font color = '#2C2C54'> Recursos e Ferramentas </font>"
   ]
  },
  {
   "cell_type": "markdown",
   "id": "bd2b5a11",
   "metadata": {},
   "source": [
    "Para esse projeto, vamos importar algumas bibliotecas e pacotes para manipular e tratar os dados, plotar gráficos e implementar modelos de ML. A documentação de cada um deles estará disponível logo abaixo."
   ]
  },
  {
   "cell_type": "code",
   "execution_count": 33,
   "id": "e56fa544",
   "metadata": {},
   "outputs": [],
   "source": [
    "# Importar bibliotecas e pacotes\n",
    "import pandas            as pd\n",
    "import numpy             as np\n",
    "import matplotlib.pyplot as plt\n",
    "import seaborn           as sns\n",
    "import plotly.express    as px\n",
    "\n",
    "from sklearn.neighbors       import KNeighborsClassifier\n",
    "from sklearn.preprocessing   import LabelBinarizer, MinMaxScaler, StandardScaler\n",
    "from sklearn.model_selection import train_test_split, cross_val_score\n",
    "from sklearn.metrics         import confusion_matrix, ConfusionMatrixDisplay, accuracy_score, recall_score, precision_score,f1_score, roc_auc_score"
   ]
  },
  {
   "cell_type": "markdown",
   "id": "67341216",
   "metadata": {},
   "source": [
    "<div style = \"height: 5px; width:100%; background-image:linear-gradient(to right, #2C2C54 ,white);\"></div>\n",
    "\n",
    "## <font color = '#2C2C54'> Análise Exploratória dos Dados </font>"
   ]
  },
  {
   "cell_type": "markdown",
   "id": "e323246b",
   "metadata": {},
   "source": [
    "Abaixo, carregamos o arquivo <b><span style='font-family:Consolas'> .csv </span></b> para uma estrutura do tipo `dataframe`. Em seguida, exibimos as primeiras linhas da tabela para nos familiarizarmos com os dados."
   ]
  },
  {
   "cell_type": "code",
   "execution_count": 2,
   "id": "be6d9c15",
   "metadata": {},
   "outputs": [
    {
     "data": {
      "text/html": [
       "<div>\n",
       "<style scoped>\n",
       "    .dataframe tbody tr th:only-of-type {\n",
       "        vertical-align: middle;\n",
       "    }\n",
       "\n",
       "    .dataframe tbody tr th {\n",
       "        vertical-align: top;\n",
       "    }\n",
       "\n",
       "    .dataframe thead th {\n",
       "        text-align: right;\n",
       "    }\n",
       "</style>\n",
       "<table border=\"1\" class=\"dataframe\">\n",
       "  <thead>\n",
       "    <tr style=\"text-align: right;\">\n",
       "      <th></th>\n",
       "      <th>state</th>\n",
       "      <th>account_length</th>\n",
       "      <th>area_code</th>\n",
       "      <th>phone_number</th>\n",
       "      <th>intl_plan</th>\n",
       "      <th>voice_mail_plan</th>\n",
       "      <th>number_vmail_messages</th>\n",
       "      <th>total_day_minutes</th>\n",
       "      <th>total_day_calls</th>\n",
       "      <th>total_day_charge</th>\n",
       "      <th>...</th>\n",
       "      <th>total_eve_calls</th>\n",
       "      <th>total_eve_charge</th>\n",
       "      <th>total_night_minutes</th>\n",
       "      <th>total_night_calls</th>\n",
       "      <th>total_night_charge</th>\n",
       "      <th>total_intl_minutes</th>\n",
       "      <th>total_intl_calls</th>\n",
       "      <th>total_intl_charge</th>\n",
       "      <th>number_customer_service_calls</th>\n",
       "      <th>churned</th>\n",
       "    </tr>\n",
       "  </thead>\n",
       "  <tbody>\n",
       "    <tr>\n",
       "      <th>0</th>\n",
       "      <td>KS</td>\n",
       "      <td>128</td>\n",
       "      <td>415</td>\n",
       "      <td>382-4657</td>\n",
       "      <td>no</td>\n",
       "      <td>yes</td>\n",
       "      <td>25</td>\n",
       "      <td>265.1</td>\n",
       "      <td>110</td>\n",
       "      <td>45.07</td>\n",
       "      <td>...</td>\n",
       "      <td>99</td>\n",
       "      <td>16.78</td>\n",
       "      <td>244.7</td>\n",
       "      <td>91</td>\n",
       "      <td>11.01</td>\n",
       "      <td>10.0</td>\n",
       "      <td>3</td>\n",
       "      <td>2.70</td>\n",
       "      <td>1</td>\n",
       "      <td>False</td>\n",
       "    </tr>\n",
       "    <tr>\n",
       "      <th>1</th>\n",
       "      <td>OH</td>\n",
       "      <td>107</td>\n",
       "      <td>415</td>\n",
       "      <td>371-7191</td>\n",
       "      <td>no</td>\n",
       "      <td>yes</td>\n",
       "      <td>26</td>\n",
       "      <td>161.6</td>\n",
       "      <td>123</td>\n",
       "      <td>27.47</td>\n",
       "      <td>...</td>\n",
       "      <td>103</td>\n",
       "      <td>16.62</td>\n",
       "      <td>254.4</td>\n",
       "      <td>103</td>\n",
       "      <td>11.45</td>\n",
       "      <td>13.7</td>\n",
       "      <td>3</td>\n",
       "      <td>3.70</td>\n",
       "      <td>1</td>\n",
       "      <td>False</td>\n",
       "    </tr>\n",
       "    <tr>\n",
       "      <th>2</th>\n",
       "      <td>NJ</td>\n",
       "      <td>137</td>\n",
       "      <td>415</td>\n",
       "      <td>358-1921</td>\n",
       "      <td>no</td>\n",
       "      <td>no</td>\n",
       "      <td>0</td>\n",
       "      <td>243.4</td>\n",
       "      <td>114</td>\n",
       "      <td>41.38</td>\n",
       "      <td>...</td>\n",
       "      <td>110</td>\n",
       "      <td>10.30</td>\n",
       "      <td>162.6</td>\n",
       "      <td>104</td>\n",
       "      <td>7.32</td>\n",
       "      <td>12.2</td>\n",
       "      <td>5</td>\n",
       "      <td>3.29</td>\n",
       "      <td>0</td>\n",
       "      <td>False</td>\n",
       "    </tr>\n",
       "    <tr>\n",
       "      <th>3</th>\n",
       "      <td>OH</td>\n",
       "      <td>84</td>\n",
       "      <td>408</td>\n",
       "      <td>375-9999</td>\n",
       "      <td>yes</td>\n",
       "      <td>no</td>\n",
       "      <td>0</td>\n",
       "      <td>299.4</td>\n",
       "      <td>71</td>\n",
       "      <td>50.90</td>\n",
       "      <td>...</td>\n",
       "      <td>88</td>\n",
       "      <td>5.26</td>\n",
       "      <td>196.9</td>\n",
       "      <td>89</td>\n",
       "      <td>8.86</td>\n",
       "      <td>6.6</td>\n",
       "      <td>7</td>\n",
       "      <td>1.78</td>\n",
       "      <td>2</td>\n",
       "      <td>False</td>\n",
       "    </tr>\n",
       "    <tr>\n",
       "      <th>4</th>\n",
       "      <td>OK</td>\n",
       "      <td>75</td>\n",
       "      <td>415</td>\n",
       "      <td>330-6626</td>\n",
       "      <td>yes</td>\n",
       "      <td>no</td>\n",
       "      <td>0</td>\n",
       "      <td>166.7</td>\n",
       "      <td>113</td>\n",
       "      <td>28.34</td>\n",
       "      <td>...</td>\n",
       "      <td>122</td>\n",
       "      <td>12.61</td>\n",
       "      <td>186.9</td>\n",
       "      <td>121</td>\n",
       "      <td>8.41</td>\n",
       "      <td>10.1</td>\n",
       "      <td>3</td>\n",
       "      <td>2.73</td>\n",
       "      <td>3</td>\n",
       "      <td>False</td>\n",
       "    </tr>\n",
       "  </tbody>\n",
       "</table>\n",
       "<p>5 rows × 21 columns</p>\n",
       "</div>"
      ],
      "text/plain": [
       "  state  account_length  area_code phone_number intl_plan voice_mail_plan  \\\n",
       "0    KS             128        415     382-4657        no             yes   \n",
       "1    OH             107        415     371-7191        no             yes   \n",
       "2    NJ             137        415     358-1921        no              no   \n",
       "3    OH              84        408     375-9999       yes              no   \n",
       "4    OK              75        415     330-6626       yes              no   \n",
       "\n",
       "   number_vmail_messages  total_day_minutes  total_day_calls  \\\n",
       "0                     25              265.1              110   \n",
       "1                     26              161.6              123   \n",
       "2                      0              243.4              114   \n",
       "3                      0              299.4               71   \n",
       "4                      0              166.7              113   \n",
       "\n",
       "   total_day_charge  ...  total_eve_calls  total_eve_charge  \\\n",
       "0             45.07  ...               99             16.78   \n",
       "1             27.47  ...              103             16.62   \n",
       "2             41.38  ...              110             10.30   \n",
       "3             50.90  ...               88              5.26   \n",
       "4             28.34  ...              122             12.61   \n",
       "\n",
       "   total_night_minutes  total_night_calls  total_night_charge  \\\n",
       "0                244.7                 91               11.01   \n",
       "1                254.4                103               11.45   \n",
       "2                162.6                104                7.32   \n",
       "3                196.9                 89                8.86   \n",
       "4                186.9                121                8.41   \n",
       "\n",
       "   total_intl_minutes  total_intl_calls  total_intl_charge  \\\n",
       "0                10.0                 3               2.70   \n",
       "1                13.7                 3               3.70   \n",
       "2                12.2                 5               3.29   \n",
       "3                 6.6                 7               1.78   \n",
       "4                10.1                 3               2.73   \n",
       "\n",
       "   number_customer_service_calls  churned  \n",
       "0                              1    False  \n",
       "1                              1    False  \n",
       "2                              0    False  \n",
       "3                              2    False  \n",
       "4                              3    False  \n",
       "\n",
       "[5 rows x 21 columns]"
      ]
     },
     "execution_count": 2,
     "metadata": {},
     "output_type": "execute_result"
    }
   ],
   "source": [
    "# Lê o conjunto de dados e exibe as primeiras linhas.\n",
    "dados = pd.read_csv('Orange_Telecom_Churn_Data.csv')\n",
    "dados.head()"
   ]
  },
  {
   "cell_type": "markdown",
   "id": "67792f8f",
   "metadata": {},
   "source": [
    "Carregamos um arquivo <b><span style='font-family:Consolas'> .csv </span></b> auxiliar contendo o dicionário de atributos (dicionário de dados), que relaciona o nome de cada atributo (coluna do dataframe) com sua descrição detalhada."
   ]
  },
  {
   "cell_type": "code",
   "execution_count": 3,
   "id": "f2e5bf60",
   "metadata": {},
   "outputs": [],
   "source": [
    "# Carregando arquivo de texto com o dicionário dos atributos\n",
    "dicionario = pd.read_csv('dicionario_atributos.txt',delimiter=';', index_col='Atributo')"
   ]
  },
  {
   "cell_type": "markdown",
   "id": "be995a64",
   "metadata": {},
   "source": [
    ">A passagem do parâmetro `index_col` permite acessar a descrição dos atributos de forma simples usando:\n",
    "```python\n",
    "    dicionario.loc[nome_atributo]['Descrição']\n",
    "```"
   ]
  },
  {
   "cell_type": "markdown",
   "id": "ccccd997",
   "metadata": {},
   "source": [
    "Antes de partir para a seleção dos atributos (que passa pelo processo de classificá-los em numéricos e categóricos), precisamos ver os tipos seus tipos. Faremos isso usando o método `info()`, que além de exibir os tipos, também fornece outras informações importantes sobre o conjunto de dados."
   ]
  },
  {
   "cell_type": "code",
   "execution_count": 4,
   "id": "01168cb2",
   "metadata": {},
   "outputs": [
    {
     "name": "stdout",
     "output_type": "stream",
     "text": [
      "<class 'pandas.core.frame.DataFrame'>\n",
      "RangeIndex: 5000 entries, 0 to 4999\n",
      "Data columns (total 21 columns):\n",
      " #   Column                         Non-Null Count  Dtype  \n",
      "---  ------                         --------------  -----  \n",
      " 0   state                          5000 non-null   object \n",
      " 1   account_length                 5000 non-null   int64  \n",
      " 2   area_code                      5000 non-null   int64  \n",
      " 3   phone_number                   5000 non-null   object \n",
      " 4   intl_plan                      5000 non-null   object \n",
      " 5   voice_mail_plan                5000 non-null   object \n",
      " 6   number_vmail_messages          5000 non-null   int64  \n",
      " 7   total_day_minutes              5000 non-null   float64\n",
      " 8   total_day_calls                5000 non-null   int64  \n",
      " 9   total_day_charge               5000 non-null   float64\n",
      " 10  total_eve_minutes              5000 non-null   float64\n",
      " 11  total_eve_calls                5000 non-null   int64  \n",
      " 12  total_eve_charge               5000 non-null   float64\n",
      " 13  total_night_minutes            5000 non-null   float64\n",
      " 14  total_night_calls              5000 non-null   int64  \n",
      " 15  total_night_charge             5000 non-null   float64\n",
      " 16  total_intl_minutes             5000 non-null   float64\n",
      " 17  total_intl_calls               5000 non-null   int64  \n",
      " 18  total_intl_charge              5000 non-null   float64\n",
      " 19  number_customer_service_calls  5000 non-null   int64  \n",
      " 20  churned                        5000 non-null   bool   \n",
      "dtypes: bool(1), float64(8), int64(8), object(4)\n",
      "memory usage: 786.3+ KB\n"
     ]
    }
   ],
   "source": [
    "# Exibe nome, tipo de dado e quantidade de valores nulos para cada atributo.\n",
    "dados.info()"
   ]
  },
  {
   "cell_type": "markdown",
   "id": "7e8550e0",
   "metadata": {},
   "source": [
    "> ⚠️ </b>A coluna `Non-Null Count` indica a quantidade de valores nulos para cada atributo. Como não há valores nulos para nenhum atributo, não iremos nos preocupar em realizar qualquer tratamento do tipo.\n",
    "\n",
    "> ⚠️ </b>Ao analisar os tipos de dados de cada atributo, tenha em mente que, caso haja <b>pelo menos um valor</b> de tipo diferente dos demais, o Python irá classificar os valores desse atributo como `object`. Nesse sentido, sempre que um atributo, por exemplo, for numérico (por definição), mas o atributo `dtypes` indicar como object, é importante verificar a qual(is) é o valor que está contaminando os demais."
   ]
  },
  {
   "cell_type": "markdown",
   "id": "d3a3902c",
   "metadata": {},
   "source": [
    "### ❓Dados Ausentes, NaN e Tipos Incompatíveis.\n",
    "\n",
    "Para lidar com dados ausentes, primeiro precisamos saber a porcentagem de dados faltando em uma coluna específica para que possamos escolher uma estratégia apropriada para lidar com a situação. Abaixo, segue uma breve resumo contendo <i>rules of thumb</i>, para lidar com cada caso."
   ]
  },
  {
   "cell_type": "markdown",
   "id": "8fd18e68",
   "metadata": {},
   "source": [
    "<center>\n",
    "<img src = '.\\Figuras\\Analise_Exploratoria-MissingValues.png' width=600>\n",
    "</center>"
   ]
  },
  {
   "cell_type": "markdown",
   "id": "f282240c",
   "metadata": {},
   "source": [
    "> ⚠️ (*) Essa técnica geralmente é preferida, pois os valores ausentes têm uma chance maior de estarem mais próximos da média do que da moda."
   ]
  },
  {
   "attachments": {},
   "cell_type": "markdown",
   "id": "273b9bce",
   "metadata": {},
   "source": [
    "<div style = \"height: 5px; width:100%; background-image:linear-gradient(to right, #2C2C54 ,white);\"></div>\n",
    "\n",
    "## Classificando os atributos e analisando suas cardinalidades.\n",
    "Atributos podem conter valores numéricos (variáveis numéricas) ou não-numéricos (categóricos). Desses, podemos sub-classificá-los em ordinais e não-ordinais. A classificação dos atributos é fundamental para implementação de modelos de ML, pois alguns deles não lidam bem com variáveis categóricas, sendo necessário realizar transformações sobre elas a fim de serem devidamente processadas."
   ]
  },
  {
   "cell_type": "markdown",
   "id": "59309687",
   "metadata": {},
   "source": [
    "Analisando os primeiros registros da tabela usando o método `.head()` juntamente às informações do dataframe por meio do método `.info()` concluímos que são categóricos os seguintes atributos:\n",
    "\n",
    "- state\n",
    "- area_code (*)\n",
    "- intl_plan\n",
    "- voice_mail_plan\n",
    "- churned"
   ]
  },
  {
   "cell_type": "markdown",
   "id": "7c6b50fd",
   "metadata": {},
   "source": [
    "> Embora possua tipo numérico, o atributo `area_code` possui cardinalidade baixa (três classes apenas). Além disso, apesar de ser representado por valores numéricos, não há significado intrínseco neles. Sendo assim, atuam como identificadores de uma região, apenas. <br>\n",
    "<br>\n",
    "O atributo `churned` é a nossa variável alvo - atributo que contém os rótulos que desejamos predizer. Não deve se realizar nenhum tipo de ação sobre esse atributo."
   ]
  },
  {
   "cell_type": "markdown",
   "id": "63561464",
   "metadata": {},
   "source": [
    "<div style = \"height: 5px; width:100%; background-image:linear-gradient(to right, #2C2C54 ,white);\"></div>\n",
    "\n",
    "## Codificando variáveis categóricas\n",
    "Para conseguirmos treinar um classificador, é necessário construírmos as matrizes $X$ e $y$, tais quais possuem valores numéricos e os rótulos a serem preditos, respectivamente. Para isso, precisamos:\n",
    "\n",
    "- Escolher quais atributos irão compor a matriz $X$\n",
    "- Para as variáveis categóricas que participarão de $X$, realizar codificações para torná-las numéricas.\n",
    "\n",
    "Por fim, para um dataset de $n$ linhas e $m$ colunas, devemos ser capazes de ter uma matriz $X_{n,m-1}$ com valores numéricos e um vetor $y$ com os rótulos."
   ]
  },
  {
   "cell_type": "code",
   "execution_count": 5,
   "id": "3f54857b",
   "metadata": {},
   "outputs": [],
   "source": [
    "# Descartando os atributos categóricos de alta cardinalidade.\n",
    "dados.drop(columns={'phone_number','state'}, axis=1, inplace=True)"
   ]
  },
  {
   "cell_type": "code",
   "execution_count": 6,
   "id": "94159923",
   "metadata": {},
   "outputs": [],
   "source": [
    "# Binarização das variáveis categórica de cardinalidade = 2.\n",
    "lb = LabelBinarizer()\n",
    "\n",
    "dados['intl_plan'] = lb.fit_transform(dados['intl_plan'])\n",
    "dados['voice_mail_plan'] = lb.fit_transform(dados['voice_mail_plan'])"
   ]
  },
  {
   "cell_type": "markdown",
   "id": "e27a718c",
   "metadata": {},
   "source": [
    "A única variável categórica que restou foi `area_code`, que possui três classes (415, 408 e 510). Para ela, iremos aplicar o método `get_dummies()` que cria uma coluna para cada classe do atributo categórico e preenche com 0 ou 1 a depender do registro analisado."
   ]
  },
  {
   "cell_type": "code",
   "execution_count": 7,
   "id": "805c4220",
   "metadata": {},
   "outputs": [],
   "source": [
    "# One-hot-encoding para as variáveis de cardinalidade >=2.\n",
    "dados = pd.get_dummies(dados, columns=['area_code'])"
   ]
  },
  {
   "cell_type": "markdown",
   "id": "5d38fa58",
   "metadata": {},
   "source": [
    "<div class=\"alert alert-block alert-success\">  \n",
    "    ✅ Após as ações acima, todos os atributos do dataframe, com excessão do atributo alvo <b>churned</b>, são numéricos.\n",
    "</div>"
   ]
  },
  {
   "cell_type": "code",
   "execution_count": 8,
   "id": "071efb58",
   "metadata": {},
   "outputs": [
    {
     "data": {
      "text/html": [
       "<div>\n",
       "<style scoped>\n",
       "    .dataframe tbody tr th:only-of-type {\n",
       "        vertical-align: middle;\n",
       "    }\n",
       "\n",
       "    .dataframe tbody tr th {\n",
       "        vertical-align: top;\n",
       "    }\n",
       "\n",
       "    .dataframe thead th {\n",
       "        text-align: right;\n",
       "    }\n",
       "</style>\n",
       "<table border=\"1\" class=\"dataframe\">\n",
       "  <thead>\n",
       "    <tr style=\"text-align: right;\">\n",
       "      <th></th>\n",
       "      <th>account_length</th>\n",
       "      <th>intl_plan</th>\n",
       "      <th>voice_mail_plan</th>\n",
       "      <th>number_vmail_messages</th>\n",
       "      <th>total_day_minutes</th>\n",
       "      <th>total_day_calls</th>\n",
       "      <th>total_day_charge</th>\n",
       "      <th>total_eve_minutes</th>\n",
       "      <th>total_eve_calls</th>\n",
       "      <th>total_eve_charge</th>\n",
       "      <th>...</th>\n",
       "      <th>total_night_calls</th>\n",
       "      <th>total_night_charge</th>\n",
       "      <th>total_intl_minutes</th>\n",
       "      <th>total_intl_calls</th>\n",
       "      <th>total_intl_charge</th>\n",
       "      <th>number_customer_service_calls</th>\n",
       "      <th>churned</th>\n",
       "      <th>area_code_408</th>\n",
       "      <th>area_code_415</th>\n",
       "      <th>area_code_510</th>\n",
       "    </tr>\n",
       "  </thead>\n",
       "  <tbody>\n",
       "    <tr>\n",
       "      <th>0</th>\n",
       "      <td>128</td>\n",
       "      <td>0</td>\n",
       "      <td>1</td>\n",
       "      <td>25</td>\n",
       "      <td>265.1</td>\n",
       "      <td>110</td>\n",
       "      <td>45.07</td>\n",
       "      <td>197.4</td>\n",
       "      <td>99</td>\n",
       "      <td>16.78</td>\n",
       "      <td>...</td>\n",
       "      <td>91</td>\n",
       "      <td>11.01</td>\n",
       "      <td>10.0</td>\n",
       "      <td>3</td>\n",
       "      <td>2.70</td>\n",
       "      <td>1</td>\n",
       "      <td>False</td>\n",
       "      <td>0</td>\n",
       "      <td>1</td>\n",
       "      <td>0</td>\n",
       "    </tr>\n",
       "    <tr>\n",
       "      <th>1</th>\n",
       "      <td>107</td>\n",
       "      <td>0</td>\n",
       "      <td>1</td>\n",
       "      <td>26</td>\n",
       "      <td>161.6</td>\n",
       "      <td>123</td>\n",
       "      <td>27.47</td>\n",
       "      <td>195.5</td>\n",
       "      <td>103</td>\n",
       "      <td>16.62</td>\n",
       "      <td>...</td>\n",
       "      <td>103</td>\n",
       "      <td>11.45</td>\n",
       "      <td>13.7</td>\n",
       "      <td>3</td>\n",
       "      <td>3.70</td>\n",
       "      <td>1</td>\n",
       "      <td>False</td>\n",
       "      <td>0</td>\n",
       "      <td>1</td>\n",
       "      <td>0</td>\n",
       "    </tr>\n",
       "    <tr>\n",
       "      <th>2</th>\n",
       "      <td>137</td>\n",
       "      <td>0</td>\n",
       "      <td>0</td>\n",
       "      <td>0</td>\n",
       "      <td>243.4</td>\n",
       "      <td>114</td>\n",
       "      <td>41.38</td>\n",
       "      <td>121.2</td>\n",
       "      <td>110</td>\n",
       "      <td>10.30</td>\n",
       "      <td>...</td>\n",
       "      <td>104</td>\n",
       "      <td>7.32</td>\n",
       "      <td>12.2</td>\n",
       "      <td>5</td>\n",
       "      <td>3.29</td>\n",
       "      <td>0</td>\n",
       "      <td>False</td>\n",
       "      <td>0</td>\n",
       "      <td>1</td>\n",
       "      <td>0</td>\n",
       "    </tr>\n",
       "    <tr>\n",
       "      <th>3</th>\n",
       "      <td>84</td>\n",
       "      <td>1</td>\n",
       "      <td>0</td>\n",
       "      <td>0</td>\n",
       "      <td>299.4</td>\n",
       "      <td>71</td>\n",
       "      <td>50.90</td>\n",
       "      <td>61.9</td>\n",
       "      <td>88</td>\n",
       "      <td>5.26</td>\n",
       "      <td>...</td>\n",
       "      <td>89</td>\n",
       "      <td>8.86</td>\n",
       "      <td>6.6</td>\n",
       "      <td>7</td>\n",
       "      <td>1.78</td>\n",
       "      <td>2</td>\n",
       "      <td>False</td>\n",
       "      <td>1</td>\n",
       "      <td>0</td>\n",
       "      <td>0</td>\n",
       "    </tr>\n",
       "    <tr>\n",
       "      <th>4</th>\n",
       "      <td>75</td>\n",
       "      <td>1</td>\n",
       "      <td>0</td>\n",
       "      <td>0</td>\n",
       "      <td>166.7</td>\n",
       "      <td>113</td>\n",
       "      <td>28.34</td>\n",
       "      <td>148.3</td>\n",
       "      <td>122</td>\n",
       "      <td>12.61</td>\n",
       "      <td>...</td>\n",
       "      <td>121</td>\n",
       "      <td>8.41</td>\n",
       "      <td>10.1</td>\n",
       "      <td>3</td>\n",
       "      <td>2.73</td>\n",
       "      <td>3</td>\n",
       "      <td>False</td>\n",
       "      <td>0</td>\n",
       "      <td>1</td>\n",
       "      <td>0</td>\n",
       "    </tr>\n",
       "  </tbody>\n",
       "</table>\n",
       "<p>5 rows × 21 columns</p>\n",
       "</div>"
      ],
      "text/plain": [
       "   account_length  intl_plan  voice_mail_plan  number_vmail_messages  \\\n",
       "0             128          0                1                     25   \n",
       "1             107          0                1                     26   \n",
       "2             137          0                0                      0   \n",
       "3              84          1                0                      0   \n",
       "4              75          1                0                      0   \n",
       "\n",
       "   total_day_minutes  total_day_calls  total_day_charge  total_eve_minutes  \\\n",
       "0              265.1              110             45.07              197.4   \n",
       "1              161.6              123             27.47              195.5   \n",
       "2              243.4              114             41.38              121.2   \n",
       "3              299.4               71             50.90               61.9   \n",
       "4              166.7              113             28.34              148.3   \n",
       "\n",
       "   total_eve_calls  total_eve_charge  ...  total_night_calls  \\\n",
       "0               99             16.78  ...                 91   \n",
       "1              103             16.62  ...                103   \n",
       "2              110             10.30  ...                104   \n",
       "3               88              5.26  ...                 89   \n",
       "4              122             12.61  ...                121   \n",
       "\n",
       "   total_night_charge  total_intl_minutes  total_intl_calls  \\\n",
       "0               11.01                10.0                 3   \n",
       "1               11.45                13.7                 3   \n",
       "2                7.32                12.2                 5   \n",
       "3                8.86                 6.6                 7   \n",
       "4                8.41                10.1                 3   \n",
       "\n",
       "   total_intl_charge  number_customer_service_calls  churned  area_code_408  \\\n",
       "0               2.70                              1    False              0   \n",
       "1               3.70                              1    False              0   \n",
       "2               3.29                              0    False              0   \n",
       "3               1.78                              2    False              1   \n",
       "4               2.73                              3    False              0   \n",
       "\n",
       "   area_code_415  area_code_510  \n",
       "0              1              0  \n",
       "1              1              0  \n",
       "2              1              0  \n",
       "3              0              0  \n",
       "4              1              0  \n",
       "\n",
       "[5 rows x 21 columns]"
      ]
     },
     "execution_count": 8,
     "metadata": {},
     "output_type": "execute_result"
    }
   ],
   "source": [
    "dados.head()"
   ]
  },
  {
   "cell_type": "markdown",
   "id": "1ad2e32f",
   "metadata": {},
   "source": [
    "<div style = \"height: 5px; width:100%; background-image:linear-gradient(to right, #2C2C54 ,white);\"></div>\n",
    "\n",
    "## Construindo o modelo base  (Base Model)\n"
   ]
  },
  {
   "cell_type": "markdown",
   "id": "c50ad097",
   "metadata": {},
   "source": [
    "Para eliminar o viés de seleção na divisão dos conjuntos de treino e teste, começamos por embaralhar o conjunto de dados."
   ]
  },
  {
   "cell_type": "code",
   "execution_count": 9,
   "id": "53994956",
   "metadata": {},
   "outputs": [],
   "source": [
    "dados_embaralhados = dados.sample(frac=1, random_state=42)"
   ]
  },
  {
   "cell_type": "code",
   "execution_count": 10,
   "id": "59be4059",
   "metadata": {},
   "outputs": [],
   "source": [
    "X = dados_embaralhados.loc[:,dados_embaralhados.columns!='churned'].values\n",
    "y = dados_embaralhados.loc[:,dados_embaralhados.columns=='churned'].values"
   ]
  },
  {
   "cell_type": "code",
   "execution_count": 11,
   "id": "8fca1ab8",
   "metadata": {},
   "outputs": [],
   "source": [
    "# Convertendo a matriz coluna y para um vetor unidimensional\n",
    "y = y.ravel()"
   ]
  },
  {
   "cell_type": "markdown",
   "id": "504f301c",
   "metadata": {},
   "source": [
    "A função `train_test_split` permite indicar a quantidade de registros que serão usados para treino ou teste de diferentes maneiras. No entanto, vamos usar validação cruzada para conseguir obter resultados mais consistentes e garantir que 100% das amostras estão sendo validadas."
   ]
  },
  {
   "cell_type": "markdown",
   "id": "1f433d57",
   "metadata": {},
   "source": [
    "```python\n",
    "X_treino, X_teste, y_treino, y_teste = train_test_split(x, y, train_size=0.8, shuffle=True, random_state=42)\n",
    "```"
   ]
  },
  {
   "cell_type": "markdown",
   "id": "66ddeedb",
   "metadata": {},
   "source": [
    "<div style = \"height: 5px; width:100%; background-image:linear-gradient(to right, #2C2C54 ,white);\"></div>\n",
    "\n",
    "## Classificador KNN\n",
    "A ideia por trás do algoritmo K-Nearest Neighbors(KNN) é muito simples. Para cada registro a ser classificado ou previsto:\n",
    "\n",
    "1. Encontre $K$ registros que tenham características semelhantes (ou seja, valores de preditores semelhantes).\n",
    "2. Para classificação, descubra qual é a classe majoritária entre esses registros semelhantes e atribua essa classe ao novo registro.\n",
    "3. Para previsão (também chamada de regressão KNN), encontre a média entre esses registros semelhantes e faça a previsão usando essa média para o novo registro.\n"
   ]
  },
  {
   "cell_type": "markdown",
   "id": "6df45e05",
   "metadata": {},
   "source": [
    "Para criar um classificador KNN, podemos usar o pacote `sklearn.neighbors` e instanciar a classe <b>`KNeighborsClassifier`</b>.<br>\n",
    "[Documentação completa](https://scikit-learn.org/stable/modules/generated/sklearn.neighbors.KNeighborsClassifier.html)"
   ]
  },
  {
   "cell_type": "markdown",
   "id": "5e8d4620",
   "metadata": {},
   "source": [
    "```python\n",
    "# Assinatura da função.\n",
    "class sklearn.neighbors.KNeighborsClassifier(n_neighbors=5, *, weights='uniform', algorithm='auto', leaf_size=30, p=2, metric='minkowski', metric_params=None, n_jobs=None)\n",
    "```"
   ]
  },
  {
   "cell_type": "markdown",
   "id": "4dc31463",
   "metadata": {},
   "source": [
    "Antes de criar a instância, vamos analisar como alguns desses parâmetros afetam os passos (1) e (2) mencionados anteriormente."
   ]
  },
  {
   "cell_type": "markdown",
   "id": "1615c995",
   "metadata": {},
   "source": [
    "Os parâmetros `n_neighbors`, `weights`, `p` e `metric` estão intrinsicamente ligados, pois a maneira com qual calculamos a distância entre dois pontos depende de uma série de fatores. Em particular, a noção mais intuitiva que temos quando pensamos em calcular a distância entre dois pontos é tomar a norma L2 (distância euclidiana). "
   ]
  },
  {
   "cell_type": "markdown",
   "id": "2251a18f",
   "metadata": {},
   "source": [
    "<center>\n",
    "<img src = '.\\Figuras\\KNN_DistanciaEuclidiana.png' width=700>\n",
    "</center>"
   ]
  },
  {
   "cell_type": "markdown",
   "id": "3c88443f",
   "metadata": {},
   "source": [
    "Essa intuição produz uma família de circunferências concêntricas a nova amostra. A medida que a circunferência encosta numa amostra próxima, está definida a distância entre essa nova amostra e a vizinha como sendo o raio desta circunferência. (Figura acima)"
   ]
  },
  {
   "cell_type": "markdown",
   "id": "c8aa4a36",
   "metadata": {},
   "source": [
    "No entanto, é possível definir outros vizinhos mais próximos se alterarmos alguns parâmetros. Isto é, ao mudarmos a maneira como distâncias estão sendo calculadas, é possível que outro conjunto de vizinhos seja considerado o mais próximo.\n",
    "\n",
    "Em particular, vamos fixar a métrica `metric` como sendo a de minkowski e variar os demais parâmetros para ver o que acontece."
   ]
  },
  {
   "cell_type": "markdown",
   "id": "5578d415",
   "metadata": {},
   "source": [
    "<center>\n",
    "<img src = '.\\Figuras\\KNN_L1eL2.png' width=600>\n",
    "</center>"
   ]
  },
  {
   "cell_type": "markdown",
   "id": "88be6855",
   "metadata": {},
   "source": [
    "> A figura acima ilustra a diferença entre o conjunto de 5 vizinhos mais próximos quando considerado $p=1$ (L1) e $p=2$ (L2)"
   ]
  },
  {
   "cell_type": "markdown",
   "id": "3ccf5387",
   "metadata": {},
   "source": [
    "> Além do parâmetro `p`, também é possível mudar o parâmetro `weights` que atribui pesos diferentes às amostras mais próximas em relação às mais distantes. Em conjuntos desbalanceados (e.g., uma classe figura muito mais do que outra), ajustar esse parâmetro é uma abordagem comum a fim de tentar compensar esse desbalanço."
   ]
  },
  {
   "cell_type": "markdown",
   "id": "1b22679c",
   "metadata": {},
   "source": [
    "<div style = \"height: 5px; width:100%; background-image:linear-gradient(to right, #2C2C54 ,white);\"></div>\n",
    "\n",
    "## Pré-Processamento\n",
    "Antes de treinarmos o classificador e verificar seus primeiros resultados, é importante que todos os atributos estejam com escalas compatíveis. Caso contrário, é possível que um atributo pese muito mais do que outro pelo simples fato de estar num escala menor."
   ]
  },
  {
   "cell_type": "markdown",
   "id": "7f25292a",
   "metadata": {},
   "source": [
    "Há algumas maneiras de se ajustar a escala de uma variável. Neste projeto, usaremos o `StandardScaler`, que consiste em tornar levar a média dos atributos para zero e o desvio padrão unitário. O resultado dessa transformação é comumente denominado <b>z-score</b>."
   ]
  },
  {
   "cell_type": "markdown",
   "id": "62060283",
   "metadata": {},
   "source": [
    "$$\n",
    "z = {{x-\\bar{x}} \\over {s}}\n",
    "$$"
   ]
  },
  {
   "cell_type": "code",
   "execution_count": 12,
   "id": "05e306b4",
   "metadata": {},
   "outputs": [],
   "source": [
    "# Normalizando os dados da matriz X.\n",
    "ajuste_escala = StandardScaler()\n",
    "ajuste_escala.fit(X)\n",
    "X = ajuste_escala.transform(X)"
   ]
  },
  {
   "cell_type": "markdown",
   "id": "57c4b74d",
   "metadata": {},
   "source": [
    "Vamos treinar o classificador e avaliar sua performance usando validação cruzada (K Fold-Cross)"
   ]
  },
  {
   "cell_type": "markdown",
   "id": "e8e52495",
   "metadata": {},
   "source": [
    "> O KNN é um algoritmo de aprendizado preguiçoso (lazy learning), o que significa que ele não cria um modelo explícito durante o treinamento. Em vez disso, ele armazena os exemplos de treinamento e calcula as classificações sob demanda quando uma nova instância precisa ser classificada. O desempenho do KNN pode ser afetado pela escolha adequada do valor de K e pela métrica de distância utilizada. Além disso, ele pode ser sensível à escala dos atributos, exigindo, por vezes, a normalização dos dados antes do uso."
   ]
  },
  {
   "cell_type": "markdown",
   "id": "e09bab3a",
   "metadata": {},
   "source": [
    "<div style = \"height: 5px; width:100%; background-image:linear-gradient(to right, #2C2C54 ,white);\"></div>\n",
    "\n",
    "## Avaliando o desempenho do modelo base\n",
    "Exibindo a acurácia para diferentes valores de $k$ (hiperparâmetro)."
   ]
  },
  {
   "cell_type": "code",
   "execution_count": 13,
   "id": "d585e639",
   "metadata": {},
   "outputs": [
    {
     "name": "stdout",
     "output_type": "stream",
     "text": [
      "1     86.8\n",
      "3     89.4\n",
      "5     89.1\n",
      "7     88.8\n",
      "9     88.6\n",
      "11     88.3\n",
      "13     88.0\n",
      "15     87.8\n",
      "17     87.7\n",
      "19     87.6\n",
      "21     87.7\n",
      "23     87.6\n",
      "25     87.5\n"
     ]
    }
   ],
   "source": [
    "for k in range(1,26,2):\n",
    "\n",
    "    classificador = KNeighborsClassifier(n_neighbors=k,weights='uniform',p=2)\n",
    "    scores = cross_val_score(classificador,X,y,cv=10)\n",
    "    print(k,'%8.1f' % (100*sum(scores)/10))"
   ]
  },
  {
   "cell_type": "markdown",
   "id": "a3d54c31",
   "metadata": {},
   "source": [
    "Os resultados acima exibem uma acurácia máxima de 89,4% para $k=5$. No entanto, é preciso verificar a proporção de True e False para classe rotulada `churned`."
   ]
  },
  {
   "cell_type": "code",
   "execution_count": 14,
   "id": "8a810a18",
   "metadata": {},
   "outputs": [
    {
     "data": {
      "text/plain": [
       "False    0.8586\n",
       "True     0.1414\n",
       "Name: churned, dtype: float64"
      ]
     },
     "execution_count": 14,
     "metadata": {},
     "output_type": "execute_result"
    }
   ],
   "source": [
    "dados['churned'].value_counts(normalize=True)"
   ]
  },
  {
   "cell_type": "markdown",
   "id": "f39f2bc1",
   "metadata": {},
   "source": [
    "Repare que a proporção entre clientes que permaneceram na empresa (<font color = 'darkred'>churned</font>=<b><font color='green'>False</b></font>) e clientes que sairam (<font color = 'darkred'>churned</font>=<b><font color='green'>True</b></font>) é extremamente desbalanceada. Em situaçoes como essa, consideramos a acurácia de 85,6% como base. Em outras palavras, para uma acurácia obtida de 89.4%, é difícil quantificar (somente com os números) o aprendizado do modelo.\n",
    "\n",
    "Mas antes de resolver o problema do conjunto desbalanceado, podemos fazer algumas coisas que, potencialmente, aumentarão essa acurácia, como selecionar atributos relevantes."
   ]
  },
  {
   "cell_type": "markdown",
   "id": "a67eb45e",
   "metadata": {},
   "source": [
    "### Seleção de atributos"
   ]
  },
  {
   "cell_type": "markdown",
   "id": "b44da966",
   "metadata": {},
   "source": [
    "A etapa de seleção de atributos desempenha um papel crucial no processo de construção de modelos de ML e é de grande importância por várias razões. Listaremos, em ordem de importância para <b> este projeto </b>, algumas delas:"
   ]
  },
  {
   "cell_type": "markdown",
   "id": "93db4824",
   "metadata": {},
   "source": [
    "<img src = '.\\Figuras\\sombra.jpg'> "
   ]
  },
  {
   "cell_type": "markdown",
   "id": "a42e0c36",
   "metadata": {},
   "source": [
    "> A figura acima ilustra como a adição de um atributo aumenta a complexidade do modelo mas, se não houver dados suficientes, o aprendizado pode não ser feito corretamente. Na foto acima, quem se limita pela sombra pode chegar a conclusões erradas sobre o que de fato está acontecendo."
   ]
  },
  {
   "cell_type": "markdown",
   "id": "bb721a2c",
   "metadata": {},
   "source": [
    "- <b>Melhora o desempenho do modelo</b>: A seleção de atributos pode ajudar a melhorar o desempenho do modelo, uma vez que reduz o ruído e a dimensionalidade desnecessária nos dados. Modelos de ML com menos atributos geralmente têm menor probabilidade de overfitting aos dados de treinamento e podem generalizar melhor para novos dados.\n",
    "<br>\n",
    "\n",
    "- <b>Lida com atributos irrelevantes ou redundantes</b>: A seleção de atributos ajuda a lidar com atributos irrelevantes ou redundantes que não contribuem significativamente para a tarefa de modelagem. Isso melhora a qualidade do modelo.<br>\n",
    "<br>\n",
    "\n",
    "- <b>Facilita a interpretação</b>: Modelos com menos atributos são mais fáceis de interpretar e explicar. Isso é importante em casos em que a transparência e a compreensão do modelo são cruciais, como na área de saúde ou em questões regulatórias.<br>\n",
    "<br>\n",
    "\n",
    "- <b>Reduz o tempo de treinamento</b>: Modelos com menos atributos exigem menos recursos computacionais e tempo de treinamento. Isso é particularmente importante em conjuntos de dados grandes e complexos, onde a seleção de atributos pode acelerar significativamente o processo de treinamento."
   ]
  },
  {
   "cell_type": "markdown",
   "id": "5a710ef6",
   "metadata": {},
   "source": [
    "Para a selação artesanal dos atributos que participarão do treinamento do modelo, irei utilizar a seguinte métrica: somente atributos cujos valores médios para Churned=True e Churned=False são substancialmente diferentes <sup>(2)</sup>, serão considerados."
   ]
  },
  {
   "cell_type": "code",
   "execution_count": 15,
   "id": "2fcbe6ee",
   "metadata": {},
   "outputs": [
    {
     "data": {
      "text/html": [
       "<div>\n",
       "<style scoped>\n",
       "    .dataframe tbody tr th:only-of-type {\n",
       "        vertical-align: middle;\n",
       "    }\n",
       "\n",
       "    .dataframe tbody tr th {\n",
       "        vertical-align: top;\n",
       "    }\n",
       "\n",
       "    .dataframe thead th {\n",
       "        text-align: right;\n",
       "    }\n",
       "</style>\n",
       "<table border=\"1\" class=\"dataframe\">\n",
       "  <thead>\n",
       "    <tr style=\"text-align: right;\">\n",
       "      <th>churned</th>\n",
       "      <th>False</th>\n",
       "      <th>True</th>\n",
       "    </tr>\n",
       "  </thead>\n",
       "  <tbody>\n",
       "    <tr>\n",
       "      <th>account_length</th>\n",
       "      <td>99.917074</td>\n",
       "      <td>102.332390</td>\n",
       "    </tr>\n",
       "    <tr>\n",
       "      <th>intl_plan</th>\n",
       "      <td>0.063825</td>\n",
       "      <td>0.281471</td>\n",
       "    </tr>\n",
       "    <tr>\n",
       "      <th>voice_mail_plan</th>\n",
       "      <td>0.284416</td>\n",
       "      <td>0.144272</td>\n",
       "    </tr>\n",
       "    <tr>\n",
       "      <th>number_vmail_messages</th>\n",
       "      <td>8.291870</td>\n",
       "      <td>4.496464</td>\n",
       "    </tr>\n",
       "    <tr>\n",
       "      <th>total_day_minutes</th>\n",
       "      <td>175.746564</td>\n",
       "      <td>207.870580</td>\n",
       "    </tr>\n",
       "    <tr>\n",
       "      <th>total_day_calls</th>\n",
       "      <td>99.899604</td>\n",
       "      <td>100.817539</td>\n",
       "    </tr>\n",
       "    <tr>\n",
       "      <th>total_day_charge</th>\n",
       "      <td>29.877494</td>\n",
       "      <td>35.338416</td>\n",
       "    </tr>\n",
       "    <tr>\n",
       "      <th>total_eve_minutes</th>\n",
       "      <td>198.805031</td>\n",
       "      <td>211.757850</td>\n",
       "    </tr>\n",
       "    <tr>\n",
       "      <th>total_eve_calls</th>\n",
       "      <td>100.241556</td>\n",
       "      <td>99.884017</td>\n",
       "    </tr>\n",
       "    <tr>\n",
       "      <th>total_eve_charge</th>\n",
       "      <td>16.898654</td>\n",
       "      <td>17.999562</td>\n",
       "    </tr>\n",
       "    <tr>\n",
       "      <th>total_night_minutes</th>\n",
       "      <td>199.455113</td>\n",
       "      <td>206.078218</td>\n",
       "    </tr>\n",
       "    <tr>\n",
       "      <th>total_night_calls</th>\n",
       "      <td>99.975775</td>\n",
       "      <td>99.575672</td>\n",
       "    </tr>\n",
       "    <tr>\n",
       "      <th>total_night_charge</th>\n",
       "      <td>8.975593</td>\n",
       "      <td>9.273607</td>\n",
       "    </tr>\n",
       "    <tr>\n",
       "      <th>total_intl_minutes</th>\n",
       "      <td>10.190869</td>\n",
       "      <td>10.692362</td>\n",
       "    </tr>\n",
       "    <tr>\n",
       "      <th>total_intl_calls</th>\n",
       "      <td>4.481947</td>\n",
       "      <td>4.151344</td>\n",
       "    </tr>\n",
       "    <tr>\n",
       "      <th>total_intl_charge</th>\n",
       "      <td>2.752055</td>\n",
       "      <td>2.887426</td>\n",
       "    </tr>\n",
       "    <tr>\n",
       "      <th>number_customer_service_calls</th>\n",
       "      <td>1.457722</td>\n",
       "      <td>2.254597</td>\n",
       "    </tr>\n",
       "    <tr>\n",
       "      <th>area_code_408</th>\n",
       "      <td>0.252038</td>\n",
       "      <td>0.250354</td>\n",
       "    </tr>\n",
       "    <tr>\n",
       "      <th>area_code_415</th>\n",
       "      <td>0.500582</td>\n",
       "      <td>0.489392</td>\n",
       "    </tr>\n",
       "    <tr>\n",
       "      <th>area_code_510</th>\n",
       "      <td>0.247379</td>\n",
       "      <td>0.260255</td>\n",
       "    </tr>\n",
       "  </tbody>\n",
       "</table>\n",
       "</div>"
      ],
      "text/plain": [
       "churned                             False       True \n",
       "account_length                  99.917074  102.332390\n",
       "intl_plan                        0.063825    0.281471\n",
       "voice_mail_plan                  0.284416    0.144272\n",
       "number_vmail_messages            8.291870    4.496464\n",
       "total_day_minutes              175.746564  207.870580\n",
       "total_day_calls                 99.899604  100.817539\n",
       "total_day_charge                29.877494   35.338416\n",
       "total_eve_minutes              198.805031  211.757850\n",
       "total_eve_calls                100.241556   99.884017\n",
       "total_eve_charge                16.898654   17.999562\n",
       "total_night_minutes            199.455113  206.078218\n",
       "total_night_calls               99.975775   99.575672\n",
       "total_night_charge               8.975593    9.273607\n",
       "total_intl_minutes              10.190869   10.692362\n",
       "total_intl_calls                 4.481947    4.151344\n",
       "total_intl_charge                2.752055    2.887426\n",
       "number_customer_service_calls    1.457722    2.254597\n",
       "area_code_408                    0.252038    0.250354\n",
       "area_code_415                    0.500582    0.489392\n",
       "area_code_510                    0.247379    0.260255"
      ]
     },
     "execution_count": 15,
     "metadata": {},
     "output_type": "execute_result"
    }
   ],
   "source": [
    "# Exibe estatísticas para os atributos numéricos.\n",
    "dados.groupby('churned').mean().T"
   ]
  },
  {
   "cell_type": "markdown",
   "id": "fc93da80",
   "metadata": {},
   "source": [
    "Da tabela acima, verificamos que os atributos cujas médias estão mais distantes são:\n",
    "- account_length\n",
    "- intl_plan\n",
    "- voice_mail_plan\n",
    "- number_vmail_messages\n",
    "- total_day_minutes\n",
    "- total_day_charge\n",
    "- total_eve_minutes\n",
    "- total_night_minutes\n",
    "- number_customer_service_calls"
   ]
  },
  {
   "cell_type": "markdown",
   "id": "2c034594",
   "metadata": {},
   "source": [
    "> <sup>(2)</sup> <b>Substancialmente diferentes</b> é uma forma vaga de falar estatisticamente significantes."
   ]
  },
  {
   "cell_type": "markdown",
   "id": "844bc14f",
   "metadata": {},
   "source": [
    "<div style = \"height: 5px; width:100%; background-image:linear-gradient(to right, #2C2C54 ,white);\"></div>\n",
    "\n",
    "## Avaliando o desempenho do modelo com seleção de atributos\n",
    "Exibindo a acurácia para diferentes valores de $k$ (hiperparâmetro)."
   ]
  },
  {
   "cell_type": "code",
   "execution_count": 16,
   "id": "7c9d8efb",
   "metadata": {},
   "outputs": [],
   "source": [
    "# Lista com os atributos (campos da tabela) que farão parte do treinamento.\n",
    "atributos_selecionados = [\n",
    "    'account_length',\n",
    "    'intl_plan',\n",
    "    'voice_mail_plan',\n",
    "    'number_vmail_messages',\n",
    "    'total_day_minutes',\n",
    "    'total_day_charge',\n",
    "    'total_eve_minutes',\n",
    "    'total_night_minutes',\n",
    "    'number_customer_service_calls',\n",
    "    'churned']"
   ]
  },
  {
   "cell_type": "code",
   "execution_count": 17,
   "id": "73a516fd",
   "metadata": {},
   "outputs": [],
   "source": [
    "dados_selecionados = dados[atributos_selecionados]\n",
    "dados_embaralhados = dados_selecionados.sample(frac=1, random_state=42)"
   ]
  },
  {
   "cell_type": "code",
   "execution_count": 18,
   "id": "13636ebb",
   "metadata": {},
   "outputs": [],
   "source": [
    "X = dados_embaralhados.loc[:,dados_embaralhados.columns!='churned'].values\n",
    "y = dados_embaralhados.loc[:,dados_embaralhados.columns=='churned'].values"
   ]
  },
  {
   "cell_type": "code",
   "execution_count": 19,
   "id": "c596cfab",
   "metadata": {},
   "outputs": [],
   "source": [
    "# Convertendo a matriz coluna y para um vetor unidimensional\n",
    "y = y.ravel()"
   ]
  },
  {
   "cell_type": "code",
   "execution_count": 20,
   "id": "42f53d04",
   "metadata": {},
   "outputs": [],
   "source": [
    "# Normalizando os dados da matriz X.\n",
    "ajuste_escala = StandardScaler()\n",
    "ajuste_escala.fit(X)\n",
    "X = ajuste_escala.transform(X)"
   ]
  },
  {
   "cell_type": "code",
   "execution_count": 21,
   "id": "e6aae2cb",
   "metadata": {},
   "outputs": [
    {
     "name": "stdout",
     "output_type": "stream",
     "text": [
      "1     88.7\n",
      "3     90.5\n",
      "5     91.0\n",
      "7     90.9\n",
      "9     91.1\n",
      "11     91.2\n",
      "13     91.2\n",
      "15     90.9\n",
      "17     90.6\n",
      "19     90.8\n",
      "21     90.7\n",
      "23     90.7\n",
      "25     90.7\n"
     ]
    }
   ],
   "source": [
    "for k in range(1,26,2):\n",
    "\n",
    "    classificador = KNeighborsClassifier(n_neighbors=k,weights='uniform',p=2)\n",
    "    scores = cross_val_score(classificador,X,y,cv=10)\n",
    "    print(k,'%8.1f' % (100*sum(scores)/10))"
   ]
  },
  {
   "cell_type": "markdown",
   "id": "54881b5c",
   "metadata": {},
   "source": [
    "Note como obtemos resultados substancialmente melhores simplesmente fazendo a seleção de atributos. Nesse modelo, obtemos uma acurácia máxima de 91.2%."
   ]
  },
  {
   "cell_type": "markdown",
   "id": "11636f49",
   "metadata": {},
   "source": [
    "<div style = \"height: 5px; width:100%; background-image:linear-gradient(to right, #2C2C54 ,white);\"></div>\n",
    "\n",
    "## Matriz de Confusão"
   ]
  },
  {
   "cell_type": "markdown",
   "id": "a82d4181",
   "metadata": {},
   "source": [
    "Acima, a <b>acurácia</b> foi usada como métrica para avaliar o desempenho do modelo. No entanto, ela não é suficiente para avaliar o desempenho de um modelo - sobretudo em problemas de classes desbalanceadas."
   ]
  },
  {
   "cell_type": "markdown",
   "id": "f2547e36",
   "metadata": {},
   "source": [
    "> Exemplo: O dataset considerado possui 85.86% de clientes que não mudaram de serviço, contra 14.14% que trocaram. A acurácia vai medir o total (%) de predições feitas corretamente. No entanto, um modelo que simplesmente prevê que um nova amostra permacenerá com o serviço vai acertar em 85.86% dos casos."
   ]
  },
  {
   "cell_type": "code",
   "execution_count": 22,
   "id": "40ba1755",
   "metadata": {},
   "outputs": [],
   "source": [
    "# Segmenta o dataset em conjunto de treino e teste\n",
    "X_treino, X_teste, y_treino, y_teste = train_test_split(X, y, train_size=4000, shuffle=True, random_state=42)"
   ]
  },
  {
   "cell_type": "code",
   "execution_count": 23,
   "id": "0efd8b33",
   "metadata": {},
   "outputs": [],
   "source": [
    "# Treina o classificador e obtem as respostas\n",
    "classificador = KNeighborsClassifier(n_neighbors=k,weights='uniform',p=2)\n",
    "classificador.fit(X_teste,y_teste)\n",
    "y_resposta = classificador.predict(X_teste)"
   ]
  },
  {
   "cell_type": "code",
   "execution_count": 24,
   "id": "2902176f",
   "metadata": {},
   "outputs": [
    {
     "data": {
      "image/png": "[encoded data removed]",
      "text/plain": [
       "<Figure size 640x480 with 2 Axes>"
      ]
     },
     "metadata": {},
     "output_type": "display_data"
    }
   ],
   "source": [
    "# Exibe a matriz de confusão\n",
    "matriz_confusao = confusion_matrix(y_teste, y_resposta, labels=classificador.classes_)\n",
    "\n",
    "disp = ConfusionMatrixDisplay(confusion_matrix=matriz_confusao, display_labels=classificador.classes_)\n",
    "\n",
    "disp.plot(cmap=plt.cm.Blues)\n",
    "plt.show()"
   ]
  },
  {
   "cell_type": "markdown",
   "id": "62dce3a9",
   "metadata": {},
   "source": [
    "#### Acurácia - taxa de acertos\n",
    "$$\n",
    "{TP+TN}\\over{TP+FN+FP+TN}\n",
    "$$"
   ]
  },
  {
   "cell_type": "code",
   "execution_count": 25,
   "id": "634d00c3",
   "metadata": {},
   "outputs": [
    {
     "name": "stdout",
     "output_type": "stream",
     "text": [
      "89.5 %\n"
     ]
    }
   ],
   "source": [
    "# Acurácia\n",
    "print('%.1f %%' % (100*accuracy_score(y_teste, y_resposta)))"
   ]
  },
  {
   "cell_type": "markdown",
   "id": "e8ea0075",
   "metadata": {},
   "source": [
    "#### Recall - Sensibilidade\n",
    "\"Das amostras realmente positivas, <b> quantas são detectadas como positivas </b>?\"\n",
    "\n",
    "$$\n",
    "{TP}\\over{TP+FN}\n",
    "$$"
   ]
  },
  {
   "cell_type": "code",
   "execution_count": 26,
   "id": "f99aff6d",
   "metadata": {},
   "outputs": [
    {
     "name": "stdout",
     "output_type": "stream",
     "text": [
      "24.5 %\n"
     ]
    }
   ],
   "source": [
    "# Recall\n",
    "print('%.1f %%' % (100*recall_score(y_teste, y_resposta)))"
   ]
  },
  {
   "cell_type": "markdown",
   "id": "bcbe58ae",
   "metadata": {},
   "source": [
    "Perceba como o Recall nos dá uma informação que a acurácia não dá. Nesse caso, dos 139 clientes que sofreram churn, o modelo detectou apenas 34, produzindo uma taxa igual a 24.5% (baixa)."
   ]
  },
  {
   "cell_type": "markdown",
   "id": "eabac6a0",
   "metadata": {},
   "source": [
    "#### Precisão\n",
    "\"Das amostras preditas como positivas, <b> quantas são de fato positivas </b>?\"\n",
    "\n",
    "$$\n",
    "{TP}\\over{TP+FP}\n",
    "$$"
   ]
  },
  {
   "cell_type": "code",
   "execution_count": 27,
   "id": "ac1802fe",
   "metadata": {},
   "outputs": [
    {
     "name": "stdout",
     "output_type": "stream",
     "text": [
      "100.0 %\n"
     ]
    }
   ],
   "source": [
    "# Precisão\n",
    "print('%.1f %%' % (100*precision_score(y_teste, y_resposta)))"
   ]
  },
  {
   "cell_type": "markdown",
   "id": "add1fb91",
   "metadata": {},
   "source": [
    "Dentre todos os clientes que foram preditos como churned, todos de fato sofreram churned."
   ]
  },
  {
   "cell_type": "markdown",
   "id": "837b9a2c",
   "metadata": {},
   "source": [
    "#### Especificidade (Sensitividade à classe negativa)\n",
    "\"Das amostras realmente negativas, <b> quantas são detectadas como negativas </b>?\"\n",
    "\n",
    "$$\n",
    "{TN}\\over{FP+TN}\n",
    "$$"
   ]
  },
  {
   "cell_type": "markdown",
   "id": "0c501641",
   "metadata": {},
   "source": [
    "#### F1-Score\n",
    "\n",
    "O F1 Score é uma métrica de avaliação que combina a precisão (precision) e a revocação (recall) em uma única pontuação. Essa métrica é especialmente útil quando você deseja equilibrar a precisão e a capacidade do modelo em identificar corretamente os casos positivos. O F1 Score é calculado pela fórmula:\n",
    "\n",
    "$$\n",
    "F1 = 2 {{Precisão \\cdot Recall}\\over{Precisão + Recall}}\n",
    "$$"
   ]
  },
  {
   "cell_type": "markdown",
   "id": "f2899997",
   "metadata": {},
   "source": [
    "> <b>F1 Score:</b> O F1 Score é uma pontuação que varia de 0 a 1. Quanto mais próximo de 1, melhor é o desempenho do modelo. Um F1 Score de 1 indica um modelo perfeito que tem uma precisão e recall perfeitas. Um F1 Score de 0 indica um desempenho muito ruim.<br><br>\n",
    "<b>Balanceamento de Precisão e Recall:</b> O F1 Score é especialmente útil quando você não quer que seu modelo seja tendencioso em direção à precisão ou recall. Por exemplo, em algumas situações, ter muitos falsos negativos (baixa recall) é inaceitável, enquanto em outras situações, muitos falsos positivos (baixa precisão) podem ser prejudiciais. O F1 Score considera ambos os aspectos e fornece uma métrica única que leva em consideração o equilíbrio entre eles.<br><br>\n",
    "<b>Quando usar o F1 Score</b>: O F1 Score é útil em situações em que a classe positiva é relativamente rara e os falsos positivos e falsos negativos têm implicações significativas. Exemplos incluem detecção de fraudes, diagnóstico médico e detecção de spam. Nessas situações, o F1 Score ajuda a encontrar um compromisso entre minimizar falsos positivos e falsos negativos.<br>"
   ]
  },
  {
   "cell_type": "code",
   "execution_count": 28,
   "id": "eefdd90d",
   "metadata": {},
   "outputs": [
    {
     "name": "stdout",
     "output_type": "stream",
     "text": [
      "39.3 %\n"
     ]
    }
   ],
   "source": [
    "# Score-F1\n",
    "print('%.1f %%' % (100*f1_score(y_teste, y_resposta)))"
   ]
  },
  {
   "cell_type": "markdown",
   "id": "3bfff284",
   "metadata": {},
   "source": [
    "Visto (e calculados) as métricas acima, podemos decidir qual delas é um melhor indicador para o nosso problema. Isto é, qual dos dois erros abaixo é mais grave?\n",
    "\n",
    "- Cliente não sofreu churned (continuou na empresa) e o modelo prevêu que sim.\n",
    "- Cliente sofreu churned (continuou na empresa) e o modelo prevêu que não.\n",
    "\n",
    "Repare que o segundo caso é bem pior (falso-negativo), pois o modelo está falhando em detectar aqueles que <b> de fato </b> estão sujeitos a cancelar o serviço. Em outras palavras, é mais importante que o modelo seja sensível (aumento do Recall) do que preciso."
   ]
  },
  {
   "cell_type": "markdown",
   "id": "aa70c2ff",
   "metadata": {},
   "source": [
    "<div style = \"height: 5px; width:100%; background-image:linear-gradient(to right, #2C2C54 ,white);\"></div>\n",
    "\n",
    "## Receiver Operating Characteristic (ROC)\n",
    "ROC é uma métrica de ajuste de limiar móvel."
   ]
  },
  {
   "cell_type": "markdown",
   "id": "3da00221",
   "metadata": {},
   "source": [
    "<center>\n",
    "<img src = '.\\Figuras\\ROC_Orange.png' width = 400>\n",
    "</center>"
   ]
  },
  {
   "cell_type": "code",
   "execution_count": null,
   "id": "cd0b3370",
   "metadata": {},
   "outputs": [],
   "source": []
  }
 ],
 "metadata": {
  "kernelspec": {
   "display_name": "Python 3 (ipykernel)",
   "language": "python",
   "name": "python3"
  },
  "language_info": {
   "codemirror_mode": {
    "name": "ipython",
    "version": 3
   },
   "file_extension": ".py",
   "mimetype": "text/x-python",
   "name": "python",
   "nbconvert_exporter": "python",
   "pygments_lexer": "ipython3",
   "version": "3.11.3"
  }
 },
 "nbformat": 4,
 "nbformat_minor": 5
}
